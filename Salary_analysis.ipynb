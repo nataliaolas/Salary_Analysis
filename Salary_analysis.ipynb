{
 "cells": [
  {
   "cell_type": "code",
   "execution_count": 1,
   "metadata": {},
   "outputs": [
    {
     "name": "stderr",
     "output_type": "stream",
     "text": [
      "C:\\Users\\Komputer\\AppData\\Roaming\\Python\\Python38\\site-packages\\pandas\\core\\computation\\expressions.py:20: UserWarning: Pandas requires version '2.7.3' or newer of 'numexpr' (version '2.7.1' currently installed).\n",
      "  from pandas.core.computation.check import NUMEXPR_INSTALLED\n"
     ]
    }
   ],
   "source": [
    "import pandas as pd\n",
    "import numpy as np\n",
    "import math\n",
    "import matplotlib.pyplot as plt\n",
    "import seaborn as sns"
   ]
  },
  {
   "cell_type": "code",
   "execution_count": 2,
   "metadata": {},
   "outputs": [],
   "source": [
    "income = pd.read_csv(\"C:/Users/Komputer/Downloads/zarobki30tys.csv\")\n"
   ]
  },
  {
   "cell_type": "code",
   "execution_count": 114,
   "metadata": {},
   "outputs": [],
   "source": [
    "#Goal: Examine individual variables such as working hours, gender, race, relationships, education ages, employment  in relation to earnings above 50k and below 50k .\n",
    "#Cel: Zbadać poszczególne zmienne takie jak godziny pracy, płeć, rasa, związek, lata edukacji, zatrudnienie w stosunku do zarobków powyżej 50k i poniżej 50k."
   ]
  },
  {
   "cell_type": "code",
   "execution_count": 119,
   "metadata": {},
   "outputs": [],
   "source": [
    "# Analyse the data, checking data, info about data, null values\n",
    "# Analiza danych, sprawdzanie danych, informacji o danych, wartości nullowych"
   ]
  },
  {
   "cell_type": "code",
   "execution_count": 3,
   "metadata": {},
   "outputs": [
    {
     "data": {
      "text/html": [
       "<div>\n",
       "<style scoped>\n",
       "    .dataframe tbody tr th:only-of-type {\n",
       "        vertical-align: middle;\n",
       "    }\n",
       "\n",
       "    .dataframe tbody tr th {\n",
       "        vertical-align: top;\n",
       "    }\n",
       "\n",
       "    .dataframe thead th {\n",
       "        text-align: right;\n",
       "    }\n",
       "</style>\n",
       "<table border=\"1\" class=\"dataframe\">\n",
       "  <thead>\n",
       "    <tr style=\"text-align: right;\">\n",
       "      <th></th>\n",
       "      <th>age</th>\n",
       "      <th>employment</th>\n",
       "      <th>data_weight</th>\n",
       "      <th>education</th>\n",
       "      <th>education_ages</th>\n",
       "      <th>marital_status</th>\n",
       "      <th>profession</th>\n",
       "      <th>relation</th>\n",
       "      <th>race</th>\n",
       "      <th>gender</th>\n",
       "      <th>capital_profit</th>\n",
       "      <th>capital_loss</th>\n",
       "      <th>work_hours</th>\n",
       "      <th>country</th>\n",
       "      <th>income</th>\n",
       "    </tr>\n",
       "  </thead>\n",
       "  <tbody>\n",
       "    <tr>\n",
       "      <th>0</th>\n",
       "      <td>39</td>\n",
       "      <td>State-gov</td>\n",
       "      <td>77516</td>\n",
       "      <td>Bachelors</td>\n",
       "      <td>13</td>\n",
       "      <td>Never-married</td>\n",
       "      <td>Adm-clerical</td>\n",
       "      <td>Not-in-family</td>\n",
       "      <td>White</td>\n",
       "      <td>Male</td>\n",
       "      <td>2174</td>\n",
       "      <td>0</td>\n",
       "      <td>40</td>\n",
       "      <td>United-States</td>\n",
       "      <td>&lt;=50K</td>\n",
       "    </tr>\n",
       "    <tr>\n",
       "      <th>1</th>\n",
       "      <td>50</td>\n",
       "      <td>Self-emp-not-inc</td>\n",
       "      <td>83311</td>\n",
       "      <td>Bachelors</td>\n",
       "      <td>13</td>\n",
       "      <td>Married-civ-spouse</td>\n",
       "      <td>Exec-managerial</td>\n",
       "      <td>Husband</td>\n",
       "      <td>White</td>\n",
       "      <td>Male</td>\n",
       "      <td>0</td>\n",
       "      <td>0</td>\n",
       "      <td>13</td>\n",
       "      <td>United-States</td>\n",
       "      <td>&lt;=50K</td>\n",
       "    </tr>\n",
       "    <tr>\n",
       "      <th>2</th>\n",
       "      <td>38</td>\n",
       "      <td>Private</td>\n",
       "      <td>215646</td>\n",
       "      <td>HS-grad</td>\n",
       "      <td>9</td>\n",
       "      <td>Divorced</td>\n",
       "      <td>Handlers-cleaners</td>\n",
       "      <td>Not-in-family</td>\n",
       "      <td>White</td>\n",
       "      <td>Male</td>\n",
       "      <td>0</td>\n",
       "      <td>0</td>\n",
       "      <td>40</td>\n",
       "      <td>United-States</td>\n",
       "      <td>&lt;=50K</td>\n",
       "    </tr>\n",
       "    <tr>\n",
       "      <th>3</th>\n",
       "      <td>53</td>\n",
       "      <td>Private</td>\n",
       "      <td>234721</td>\n",
       "      <td>11th</td>\n",
       "      <td>7</td>\n",
       "      <td>Married-civ-spouse</td>\n",
       "      <td>Handlers-cleaners</td>\n",
       "      <td>Husband</td>\n",
       "      <td>Black</td>\n",
       "      <td>Male</td>\n",
       "      <td>0</td>\n",
       "      <td>0</td>\n",
       "      <td>40</td>\n",
       "      <td>United-States</td>\n",
       "      <td>&lt;=50K</td>\n",
       "    </tr>\n",
       "    <tr>\n",
       "      <th>4</th>\n",
       "      <td>28</td>\n",
       "      <td>Private</td>\n",
       "      <td>338409</td>\n",
       "      <td>Bachelors</td>\n",
       "      <td>13</td>\n",
       "      <td>Married-civ-spouse</td>\n",
       "      <td>Prof-specialty</td>\n",
       "      <td>Wife</td>\n",
       "      <td>Black</td>\n",
       "      <td>Female</td>\n",
       "      <td>0</td>\n",
       "      <td>0</td>\n",
       "      <td>40</td>\n",
       "      <td>Cuba</td>\n",
       "      <td>&lt;=50K</td>\n",
       "    </tr>\n",
       "  </tbody>\n",
       "</table>\n",
       "</div>"
      ],
      "text/plain": [
       "   age        employment  data_weight  education  education_ages  \\\n",
       "0   39         State-gov        77516  Bachelors              13   \n",
       "1   50  Self-emp-not-inc        83311  Bachelors              13   \n",
       "2   38           Private       215646    HS-grad               9   \n",
       "3   53           Private       234721       11th               7   \n",
       "4   28           Private       338409  Bachelors              13   \n",
       "\n",
       "       marital_status         profession       relation   race  gender  \\\n",
       "0       Never-married       Adm-clerical  Not-in-family  White    Male   \n",
       "1  Married-civ-spouse    Exec-managerial        Husband  White    Male   \n",
       "2            Divorced  Handlers-cleaners  Not-in-family  White    Male   \n",
       "3  Married-civ-spouse  Handlers-cleaners        Husband  Black    Male   \n",
       "4  Married-civ-spouse     Prof-specialty           Wife  Black  Female   \n",
       "\n",
       "   capital_profit  capital_loss  work_hours        country income  \n",
       "0            2174             0          40  United-States  <=50K  \n",
       "1               0             0          13  United-States  <=50K  \n",
       "2               0             0          40  United-States  <=50K  \n",
       "3               0             0          40  United-States  <=50K  \n",
       "4               0             0          40           Cuba  <=50K  "
      ]
     },
     "execution_count": 3,
     "metadata": {},
     "output_type": "execute_result"
    }
   ],
   "source": [
    "income.head()"
   ]
  },
  {
   "cell_type": "code",
   "execution_count": 4,
   "metadata": {},
   "outputs": [
    {
     "name": "stdout",
     "output_type": "stream",
     "text": [
      "<class 'pandas.core.frame.DataFrame'>\n",
      "RangeIndex: 30162 entries, 0 to 30161\n",
      "Data columns (total 15 columns):\n",
      " #   Column          Non-Null Count  Dtype \n",
      "---  ------          --------------  ----- \n",
      " 0   age             30162 non-null  int64 \n",
      " 1   employment      30162 non-null  object\n",
      " 2   data_weight     30162 non-null  int64 \n",
      " 3   education       30162 non-null  object\n",
      " 4   education_ages  30162 non-null  int64 \n",
      " 5   marital_status  30162 non-null  object\n",
      " 6   profession      30162 non-null  object\n",
      " 7   relation        30162 non-null  object\n",
      " 8   race            30162 non-null  object\n",
      " 9   gender          30162 non-null  object\n",
      " 10  capital_profit  30162 non-null  int64 \n",
      " 11  capital_loss    30162 non-null  int64 \n",
      " 12  work_hours      30162 non-null  int64 \n",
      " 13  country         30162 non-null  object\n",
      " 14  income          30162 non-null  object\n",
      "dtypes: int64(6), object(9)\n",
      "memory usage: 3.5+ MB\n"
     ]
    }
   ],
   "source": [
    "income.info()"
   ]
  },
  {
   "cell_type": "code",
   "execution_count": 5,
   "metadata": {},
   "outputs": [
    {
     "data": {
      "text/plain": [
       "age               0\n",
       "employment        0\n",
       "data_weight       0\n",
       "education         0\n",
       "education_ages    0\n",
       "marital_status    0\n",
       "profession        0\n",
       "relation          0\n",
       "race              0\n",
       "gender            0\n",
       "capital_profit    0\n",
       "capital_loss      0\n",
       "work_hours        0\n",
       "country           0\n",
       "income            0\n",
       "dtype: int64"
      ]
     },
     "execution_count": 5,
     "metadata": {},
     "output_type": "execute_result"
    }
   ],
   "source": [
    "income.isnull().sum()"
   ]
  },
  {
   "cell_type": "code",
   "execution_count": 120,
   "metadata": {},
   "outputs": [],
   "source": [
    "#Analysis of income\n",
    "#Analiza zarobków"
   ]
  },
  {
   "cell_type": "code",
   "execution_count": 6,
   "metadata": {},
   "outputs": [
    {
     "data": {
      "text/plain": [
       "count     30162\n",
       "unique        2\n",
       "top       <=50K\n",
       "freq      22654\n",
       "Name: income, dtype: object"
      ]
     },
     "execution_count": 6,
     "metadata": {},
     "output_type": "execute_result"
    }
   ],
   "source": [
    "income[\"income\"].describe()"
   ]
  },
  {
   "cell_type": "code",
   "execution_count": 7,
   "metadata": {},
   "outputs": [
    {
     "data": {
      "text/html": [
       "<div>\n",
       "<style scoped>\n",
       "    .dataframe tbody tr th:only-of-type {\n",
       "        vertical-align: middle;\n",
       "    }\n",
       "\n",
       "    .dataframe tbody tr th {\n",
       "        vertical-align: top;\n",
       "    }\n",
       "\n",
       "    .dataframe thead th {\n",
       "        text-align: right;\n",
       "    }\n",
       "</style>\n",
       "<table border=\"1\" class=\"dataframe\">\n",
       "  <thead>\n",
       "    <tr style=\"text-align: right;\">\n",
       "      <th></th>\n",
       "      <th>age</th>\n",
       "      <th>data_weight</th>\n",
       "      <th>education_ages</th>\n",
       "      <th>capital_profit</th>\n",
       "      <th>capital_loss</th>\n",
       "      <th>work_hours</th>\n",
       "    </tr>\n",
       "  </thead>\n",
       "  <tbody>\n",
       "    <tr>\n",
       "      <th>count</th>\n",
       "      <td>22654.000000</td>\n",
       "      <td>2.265400e+04</td>\n",
       "      <td>22654.000000</td>\n",
       "      <td>22654.000000</td>\n",
       "      <td>22654.000000</td>\n",
       "      <td>22654.000000</td>\n",
       "    </tr>\n",
       "    <tr>\n",
       "      <th>mean</th>\n",
       "      <td>36.608060</td>\n",
       "      <td>1.903386e+05</td>\n",
       "      <td>9.629116</td>\n",
       "      <td>148.893838</td>\n",
       "      <td>53.448000</td>\n",
       "      <td>39.348592</td>\n",
       "    </tr>\n",
       "    <tr>\n",
       "      <th>std</th>\n",
       "      <td>13.464631</td>\n",
       "      <td>1.065713e+05</td>\n",
       "      <td>2.413596</td>\n",
       "      <td>936.392280</td>\n",
       "      <td>310.270263</td>\n",
       "      <td>11.950774</td>\n",
       "    </tr>\n",
       "    <tr>\n",
       "      <th>min</th>\n",
       "      <td>17.000000</td>\n",
       "      <td>1.376900e+04</td>\n",
       "      <td>1.000000</td>\n",
       "      <td>0.000000</td>\n",
       "      <td>0.000000</td>\n",
       "      <td>1.000000</td>\n",
       "    </tr>\n",
       "    <tr>\n",
       "      <th>25%</th>\n",
       "      <td>26.000000</td>\n",
       "      <td>1.173120e+05</td>\n",
       "      <td>9.000000</td>\n",
       "      <td>0.000000</td>\n",
       "      <td>0.000000</td>\n",
       "      <td>38.000000</td>\n",
       "    </tr>\n",
       "    <tr>\n",
       "      <th>50%</th>\n",
       "      <td>34.000000</td>\n",
       "      <td>1.795085e+05</td>\n",
       "      <td>9.000000</td>\n",
       "      <td>0.000000</td>\n",
       "      <td>0.000000</td>\n",
       "      <td>40.000000</td>\n",
       "    </tr>\n",
       "    <tr>\n",
       "      <th>75%</th>\n",
       "      <td>45.000000</td>\n",
       "      <td>2.394390e+05</td>\n",
       "      <td>10.000000</td>\n",
       "      <td>0.000000</td>\n",
       "      <td>0.000000</td>\n",
       "      <td>40.000000</td>\n",
       "    </tr>\n",
       "    <tr>\n",
       "      <th>max</th>\n",
       "      <td>90.000000</td>\n",
       "      <td>1.484705e+06</td>\n",
       "      <td>16.000000</td>\n",
       "      <td>41310.000000</td>\n",
       "      <td>4356.000000</td>\n",
       "      <td>99.000000</td>\n",
       "    </tr>\n",
       "  </tbody>\n",
       "</table>\n",
       "</div>"
      ],
      "text/plain": [
       "                age   data_weight  education_ages  capital_profit  \\\n",
       "count  22654.000000  2.265400e+04    22654.000000    22654.000000   \n",
       "mean      36.608060  1.903386e+05        9.629116      148.893838   \n",
       "std       13.464631  1.065713e+05        2.413596      936.392280   \n",
       "min       17.000000  1.376900e+04        1.000000        0.000000   \n",
       "25%       26.000000  1.173120e+05        9.000000        0.000000   \n",
       "50%       34.000000  1.795085e+05        9.000000        0.000000   \n",
       "75%       45.000000  2.394390e+05       10.000000        0.000000   \n",
       "max       90.000000  1.484705e+06       16.000000    41310.000000   \n",
       "\n",
       "       capital_loss    work_hours  \n",
       "count  22654.000000  22654.000000  \n",
       "mean      53.448000     39.348592  \n",
       "std      310.270263     11.950774  \n",
       "min        0.000000      1.000000  \n",
       "25%        0.000000     38.000000  \n",
       "50%        0.000000     40.000000  \n",
       "75%        0.000000     40.000000  \n",
       "max     4356.000000     99.000000  "
      ]
     },
     "execution_count": 7,
     "metadata": {},
     "output_type": "execute_result"
    }
   ],
   "source": [
    "income_less_than_50k = income[income['income'] == '<=50K']\n",
    "inc_less_count = income_less_than_50k.value_counts()\n",
    "income_less_than_50k.describe()"
   ]
  },
  {
   "cell_type": "code",
   "execution_count": 8,
   "metadata": {},
   "outputs": [
    {
     "data": {
      "text/html": [
       "<div>\n",
       "<style scoped>\n",
       "    .dataframe tbody tr th:only-of-type {\n",
       "        vertical-align: middle;\n",
       "    }\n",
       "\n",
       "    .dataframe tbody tr th {\n",
       "        vertical-align: top;\n",
       "    }\n",
       "\n",
       "    .dataframe thead th {\n",
       "        text-align: right;\n",
       "    }\n",
       "</style>\n",
       "<table border=\"1\" class=\"dataframe\">\n",
       "  <thead>\n",
       "    <tr style=\"text-align: right;\">\n",
       "      <th></th>\n",
       "      <th>age</th>\n",
       "      <th>data_weight</th>\n",
       "      <th>education_ages</th>\n",
       "      <th>capital_profit</th>\n",
       "      <th>capital_loss</th>\n",
       "      <th>work_hours</th>\n",
       "    </tr>\n",
       "  </thead>\n",
       "  <tbody>\n",
       "    <tr>\n",
       "      <th>count</th>\n",
       "      <td>7508.000000</td>\n",
       "      <td>7.508000e+03</td>\n",
       "      <td>7508.000000</td>\n",
       "      <td>7508.000000</td>\n",
       "      <td>7508.000000</td>\n",
       "      <td>7508.000000</td>\n",
       "    </tr>\n",
       "    <tr>\n",
       "      <th>mean</th>\n",
       "      <td>43.959110</td>\n",
       "      <td>1.881500e+05</td>\n",
       "      <td>11.606420</td>\n",
       "      <td>3937.679808</td>\n",
       "      <td>193.750666</td>\n",
       "      <td>45.706580</td>\n",
       "    </tr>\n",
       "    <tr>\n",
       "      <th>std</th>\n",
       "      <td>10.269633</td>\n",
       "      <td>1.028217e+05</td>\n",
       "      <td>2.368423</td>\n",
       "      <td>14386.060019</td>\n",
       "      <td>592.825590</td>\n",
       "      <td>10.736987</td>\n",
       "    </tr>\n",
       "    <tr>\n",
       "      <th>min</th>\n",
       "      <td>19.000000</td>\n",
       "      <td>1.487800e+04</td>\n",
       "      <td>2.000000</td>\n",
       "      <td>0.000000</td>\n",
       "      <td>0.000000</td>\n",
       "      <td>1.000000</td>\n",
       "    </tr>\n",
       "    <tr>\n",
       "      <th>25%</th>\n",
       "      <td>36.000000</td>\n",
       "      <td>1.191005e+05</td>\n",
       "      <td>10.000000</td>\n",
       "      <td>0.000000</td>\n",
       "      <td>0.000000</td>\n",
       "      <td>40.000000</td>\n",
       "    </tr>\n",
       "    <tr>\n",
       "      <th>50%</th>\n",
       "      <td>43.000000</td>\n",
       "      <td>1.761850e+05</td>\n",
       "      <td>12.000000</td>\n",
       "      <td>0.000000</td>\n",
       "      <td>0.000000</td>\n",
       "      <td>40.000000</td>\n",
       "    </tr>\n",
       "    <tr>\n",
       "      <th>75%</th>\n",
       "      <td>51.000000</td>\n",
       "      <td>2.310660e+05</td>\n",
       "      <td>13.000000</td>\n",
       "      <td>0.000000</td>\n",
       "      <td>0.000000</td>\n",
       "      <td>50.000000</td>\n",
       "    </tr>\n",
       "    <tr>\n",
       "      <th>max</th>\n",
       "      <td>90.000000</td>\n",
       "      <td>1.226583e+06</td>\n",
       "      <td>16.000000</td>\n",
       "      <td>99999.000000</td>\n",
       "      <td>3683.000000</td>\n",
       "      <td>99.000000</td>\n",
       "    </tr>\n",
       "  </tbody>\n",
       "</table>\n",
       "</div>"
      ],
      "text/plain": [
       "               age   data_weight  education_ages  capital_profit  \\\n",
       "count  7508.000000  7.508000e+03     7508.000000     7508.000000   \n",
       "mean     43.959110  1.881500e+05       11.606420     3937.679808   \n",
       "std      10.269633  1.028217e+05        2.368423    14386.060019   \n",
       "min      19.000000  1.487800e+04        2.000000        0.000000   \n",
       "25%      36.000000  1.191005e+05       10.000000        0.000000   \n",
       "50%      43.000000  1.761850e+05       12.000000        0.000000   \n",
       "75%      51.000000  2.310660e+05       13.000000        0.000000   \n",
       "max      90.000000  1.226583e+06       16.000000    99999.000000   \n",
       "\n",
       "       capital_loss   work_hours  \n",
       "count   7508.000000  7508.000000  \n",
       "mean     193.750666    45.706580  \n",
       "std      592.825590    10.736987  \n",
       "min        0.000000     1.000000  \n",
       "25%        0.000000    40.000000  \n",
       "50%        0.000000    40.000000  \n",
       "75%        0.000000    50.000000  \n",
       "max     3683.000000    99.000000  "
      ]
     },
     "execution_count": 8,
     "metadata": {},
     "output_type": "execute_result"
    }
   ],
   "source": [
    "income_more_than_50k = income[income['income'] == '>50K']\n",
    "index_more = np.arange(len(income_more_than_50k))\n",
    "income_more_than_50k.describe()"
   ]
  },
  {
   "cell_type": "code",
   "execution_count": 9,
   "metadata": {},
   "outputs": [
    {
     "data": {
      "text/plain": [
       "112246306.25490196"
      ]
     },
     "execution_count": 9,
     "metadata": {},
     "output_type": "execute_result"
    }
   ],
   "source": [
    "income[\"data_weight\"].sum()/51 #51 states"
   ]
  },
  {
   "cell_type": "code",
   "execution_count": 132,
   "metadata": {},
   "outputs": [],
   "source": [
    "#First correlation between data. Do education ages Do years of education affect earnings between >50K and <50k?\n",
    "#Pierwsza korelacja pomiędzy danymi. Czy lata edukacji wpływają na wysokość zarobków pomiędzy >50K i <50K?"
   ]
  },
  {
   "cell_type": "code",
   "execution_count": 10,
   "metadata": {},
   "outputs": [
    {
     "data": {
      "image/png": "[encoded data removed]",
      "text/plain": [
       "<Figure size 432x288 with 1 Axes>"
      ]
     },
     "metadata": {
      "needs_background": "light"
     },
     "output_type": "display_data"
    }
   ],
   "source": [
    "hist_ed_ag = income[\"education_ages\"].value_counts().sort_index()\n",
    "plt.bar(hist_ed_ag.index,hist_ed_ag,width=0.5, color=\"blue\")\n",
    "plt.xticks(np.arange(0,20, step=1))\n",
    "plt.ylabel(\"Count of rows in data\", fontsize=10)\n",
    "plt.xlabel(\"Count of education ages\", fontsize=10)\n",
    "plt.show()"
   ]
  },
  {
   "cell_type": "code",
   "execution_count": 11,
   "metadata": {},
   "outputs": [
    {
     "data": {
      "image/png": "[encoded data removed]",
      "text/plain": [
       "<Figure size 1440x720 with 1 Axes>"
      ]
     },
     "metadata": {
      "needs_background": "light"
     },
     "output_type": "display_data"
    }
   ],
   "source": [
    "hist_ed_ag = income.groupby([\"income\", \"education_ages\"]).sum()\n",
    "hist_ed_ag = hist_ed_ag[\"data_weight\"]\n",
    "plt.figure(figsize=(20,10))\n",
    "plt.bar(np.arange(1, hist_ed_ag[\"<=50K\"].index.size+1, step=1)-0.2, hist_ed_ag.loc[(\"<=50K\")]/51000000, width=0.3, color=\"blue\", label=\"<=50K\")\n",
    "plt.bar(np.arange(1, hist_ed_ag[\">50K\"].index.size+1, step=1)+0.2, hist_ed_ag.loc[(\">50K\")]/51000000, width=0.3, color=\"red\", label=\">50K\")\n",
    "plt.legend()\n",
    "plt.xticks(np.arange(0, 18, step=1))\n",
    "plt.ylabel(\"Count of people(mln)\", fontsize=12)\n",
    "plt.xlabel(\"Count of education ages\", fontsize=12)\n",
    "plt.show()"
   ]
  },
  {
   "cell_type": "code",
   "execution_count": 12,
   "metadata": {},
   "outputs": [
    {
     "name": "stdout",
     "output_type": "stream",
     "text": [
      "income  education_ages\n",
      "<=50K   1                   45\n",
      "        2                  145\n",
      "        3                  276\n",
      "        4                  522\n",
      "        5                  430\n",
      "        6                  761\n",
      "        7                  989\n",
      "        8                  348\n",
      "        9                 8223\n",
      "        10                5342\n",
      "        11                 963\n",
      "        12                 752\n",
      "        13                2918\n",
      "        14                 709\n",
      "        15                 136\n",
      "        16                  95\n",
      ">50K    2                    6\n",
      "        3                   12\n",
      "        4                   35\n",
      "        5                   25\n",
      "        6                   59\n",
      "        7                   59\n",
      "        8                   29\n",
      "        9                 1617\n",
      "        10                1336\n",
      "        11                 344\n",
      "        12                 256\n",
      "        13                2126\n",
      "        14                 918\n",
      "        15                 406\n",
      "        16                 280\n",
      "dtype: int64\n"
     ]
    }
   ],
   "source": [
    "income['income'].apply(lambda x: '<50k' if x < '<50K' else '>=50k')\n",
    "grouped_data = income.groupby(['income', 'education_ages']).size()\n",
    "print(grouped_data)"
   ]
  },
  {
   "cell_type": "code",
   "execution_count": 31,
   "metadata": {},
   "outputs": [],
   "source": [
    "# Conclusion:\n",
    "# Earnings above 50K are definitely influenced by the number of years of education. Below 9 years of education, the number of people earning over 50K drops dramatically.\n",
    "# With an education that lasts 15 years, you are more likely to earn more than 50K, rather than less.\n",
    "# The variable has a big impact on earnings.\n",
    "\n",
    "# Wnioski:\n",
    "# Na zarobki powyżej 50K zdecydowanie wpływa ilość lat edukacji. Poniżej 9 lat edukacji liczba osób zarabiających powyżej 50K drastycznie spada.\n",
    "# Przy edukacji, która trwającej 15 lat bardzo prawdopodobne jest zarabianie powyżej 50K, aniżeli poniżej tej kwoty.\n",
    "# Zmienna ma duży wpływ na zarobki."
   ]
  },
  {
   "cell_type": "code",
   "execution_count": 137,
   "metadata": {},
   "outputs": [],
   "source": [
    "#Second correlation: Analysis of work hours and income. How much working houres influence on incomes.\n",
    "#Analiza kolumny godziny pracowniczne, a ich przychód. Jak godziny pracy wpływają na zarobki."
   ]
  },
  {
   "cell_type": "code",
   "execution_count": 13,
   "metadata": {},
   "outputs": [
    {
     "data": {
      "image/png": "[encoded data removed]",
      "text/plain": [
       "<Figure size 432x288 with 1 Axes>"
      ]
     },
     "metadata": {
      "needs_background": "light"
     },
     "output_type": "display_data"
    }
   ],
   "source": [
    "#Histogram count rows of work_hour in week / rozkład godzin pracujących\n",
    "hist = income[\"work_hours\"].value_counts().sort_index()\n",
    "plt.bar(hist.index,hist,width=0.5, color=\"blue\")\n",
    "plt.xticks(np.arange(20, 60, step=10))\n",
    "plt.ylabel(\"Count of rows in data\", fontsize=10)\n",
    "plt.xlabel(\"Count of working hours\", fontsize=10)\n",
    "plt.show()"
   ]
  },
  {
   "cell_type": "code",
   "execution_count": 14,
   "metadata": {},
   "outputs": [
    {
     "data": {
      "image/png": "[encoded data removed]",
      "text/plain": [
       "<Figure size 1440x720 with 1 Axes>"
      ]
     },
     "metadata": {
      "needs_background": "light"
     },
     "output_type": "display_data"
    }
   ],
   "source": [
    "hist1 = income.groupby([\"income\", \"work_hours\"]).sum()\n",
    "hist1 = hist1[\"data_weight\"]\n",
    "plt.figure(figsize=(20,10))\n",
    "plt.bar(np.arange(1, hist1[\"<=50K\"].index.size+1, step=1)-0.2, hist1.loc[(\"<=50K\")]/51000000, width=0.3, color=\"blue\", label=\"<=50K\")\n",
    "plt.bar(np.arange(1, hist1[\">50K\"].index.size+1, step=1)+0.2, hist1.loc[(\">50K\")]/51000000, width=0.3, color=\"red\", label=\">50K\")\n",
    "plt.legend()\n",
    "plt.xticks(np.arange(20, 60, step=5))\n",
    "plt.ylabel(\"Count of people(mln)\", fontsize=12)\n",
    "plt.xlabel(\"Count of working hours\", fontsize=12)\n",
    "plt.show()"
   ]
  },
  {
   "cell_type": "code",
   "execution_count": 32,
   "metadata": {},
   "outputs": [],
   "source": [
    "# Conclusion:\n",
    "# Most people work 40 hours a week. Most of these people earn less than 50K per year.\n",
    "# The largest number of people earning over 50K work more than 35 hours a week and less than 40 hours a week.\n",
    "# Many people also work over 45 hours a week and earn over 50K. The more working hours, the greater the surplus of people earning over 50K.\n",
    "\n",
    "# Wnioski:\n",
    "# Najwięcej osób pracuje w 40godzinowym trybie pracy na tydzień. Takie osoby w większości zarabiają też poniżej 50K na rok.\n",
    "# Największa ilość osób zarabiających powyżej 50k pracuje więcej niż 35h tygodniowo i mniej niż 40h tygodniowo.\n",
    "# Spora część osób pracuje też powyżej 45h tygodniowo i zarabia powyżej 50k. Im więcej godzin pracy tym zwiększa się nadwyżka osób zarabiających powyżej 50K."
   ]
  },
  {
   "cell_type": "code",
   "execution_count": 140,
   "metadata": {},
   "outputs": [],
   "source": [
    "# Analysis how much gender influence on salary.\n",
    "# Analiza jak bardzo płeć wpływa na wysokość przychodów."
   ]
  },
  {
   "cell_type": "code",
   "execution_count": 3,
   "metadata": {},
   "outputs": [
    {
     "data": {
      "text/plain": [
       "count     30162\n",
       "unique        2\n",
       "top        Male\n",
       "freq      20380\n",
       "Name: gender, dtype: object"
      ]
     },
     "execution_count": 3,
     "metadata": {},
     "output_type": "execute_result"
    }
   ],
   "source": [
    "income[\"gender\"].describe()"
   ]
  },
  {
   "cell_type": "code",
   "execution_count": 4,
   "metadata": {},
   "outputs": [
    {
     "data": {
      "text/plain": [
       "gender\n",
       "Male      20380\n",
       "Female     9782\n",
       "Name: count, dtype: int64"
      ]
     },
     "execution_count": 4,
     "metadata": {},
     "output_type": "execute_result"
    }
   ],
   "source": [
    "income[\"gender\"].value_counts()"
   ]
  },
  {
   "cell_type": "code",
   "execution_count": 16,
   "metadata": {},
   "outputs": [],
   "source": [
    "hist_gender = income.groupby([\"income\",\"gender\"]).sum()\n",
    "hist_gender =  hist_gender[\"data_weight\"]\n",
    "labels = ['Female', 'Male']\n",
    "plt.figure(figsize=(7,7))\n",
    "plt.bar( np.arange(1, hist_gender[\"<=50K\"].index.size+1, step=1)-0.2 , hist_gender.loc[(\"<=50K\")]/51000000, width=0.4,color=\"blue\", label=\"<=50K\")\n",
    "plt.bar( np.arange(1, hist_gender[\">50K\"].index.size+1, step=1)+0.2 , hist_gender.loc[(\">50K\")]/51000000, width=0.4, color=\"red\", label=\">50K\")\n",
    "plt.legend()\n",
    "plt.xticks(np.arange(1, hist_gender[\"<=50K\"].index.size+1, step=1),labels,rotation=90)\n",
    "plt.yticks(np.arange(1, hist_gender.max(), step = 5))\n",
    "plt.ylabel(\"Count of people(mln)\", fontsize=11)\n",
    "plt.xlabel(\"Type of gender\", fontsize=11)\n",
    "plt.show()"
   ]
  },
  {
   "cell_type": "code",
   "execution_count": 148,
   "metadata": {},
   "outputs": [],
   "source": [
    "# Conclusion:\n",
    "# There is a very large disproportion in earnings above 50K between women and men.\n",
    "\n",
    "# Wnioski\n",
    "# Jest bardzo duża dysproporcja przy zarobkach powyżej 50K pomiędzy kobietami, a mężczyznami."
   ]
  },
  {
   "cell_type": "code",
   "execution_count": 167,
   "metadata": {},
   "outputs": [],
   "source": [
    "# Correlation between race and salary less and more than 50K.\n",
    "# Korelacja pomiędzy rasą, a zarobkami powyżej i poniżej 50K."
   ]
  },
  {
   "cell_type": "code",
   "execution_count": 19,
   "metadata": {},
   "outputs": [
    {
     "data": {
      "text/plain": [
       "count     30162\n",
       "unique        5\n",
       "top       White\n",
       "freq      25933\n",
       "Name: race, dtype: object"
      ]
     },
     "execution_count": 19,
     "metadata": {},
     "output_type": "execute_result"
    }
   ],
   "source": [
    "income[\"race\"].describe()"
   ]
  },
  {
   "cell_type": "code",
   "execution_count": 20,
   "metadata": {},
   "outputs": [
    {
     "data": {
      "text/plain": [
       "race\n",
       "White                 25933\n",
       "Black                  2817\n",
       "Asian-Pac-Islander      895\n",
       "Amer-Indian-Eskimo      286\n",
       "Other                   231\n",
       "Name: count, dtype: int64"
      ]
     },
     "execution_count": 20,
     "metadata": {},
     "output_type": "execute_result"
    }
   ],
   "source": [
    "income[\"race\"].value_counts()"
   ]
  },
  {
   "cell_type": "code",
   "execution_count": 21,
   "metadata": {},
   "outputs": [
    {
     "data": {
      "image/png": "[encoded data removed]",
      "text/plain": [
       "<Figure size 720x576 with 1 Axes>"
      ]
     },
     "metadata": {
      "needs_background": "light"
     },
     "output_type": "display_data"
    }
   ],
   "source": [
    "hist_race = income.groupby([\"income\",\"race\"]).sum()\n",
    "hist_race = hist_race[\"data_weight\"]\n",
    "plt.figure(figsize=(10,8))\n",
    "labels = ['Amer-Indian-Eskimo ','Asian-Pac-Islander','Black','Other','White ']\n",
    "plt.bar( np.arange(1, hist_race[\"<=50K\"].index.size+1, step=1)-0.2 , hist_race.loc[(\"<=50K\")]/51000000, width=0.4, color=\"blue\", label=\"<=50K\")\n",
    "plt.bar( np.arange(1, hist_race[\">50K\"].index.size+1, step=1)+0.2 , hist_race.loc[(\">50K\")]/51000000, width=0.4, color=\"red\", label=\">50K\")\n",
    "plt.legend()\n",
    "plt.xticks(np.arange(1, hist_race[\"<=50K\"].index.size+1, step=1),labels, rotation=90)\n",
    "plt.ylabel(\"Count of people(mln)\", fontsize=11)\n",
    "plt.xlabel(\"Type of race\", fontsize=11)\n",
    "plt.show()"
   ]
  },
  {
   "cell_type": "code",
   "execution_count": 34,
   "metadata": {},
   "outputs": [],
   "source": [
    "#Conclusion:\n",
    "# The largest number of people earning over 50K are white.\n",
    "# Very few black and asian people earned over 50K.\n",
    "# There is a significant disproportion in earnings between the white race and the rest of the world's races.\n",
    "\n",
    "#Wnioski:\n",
    "# Największa ilość osób zarabiających powyżej 50K to osoby o rasie białej. \n",
    "# Bardzo mało osób o rasie czarnej i azjatyckiej zarabiało powyżej 50K.\n",
    "# Jest spora dysproporcja w zarobkach pomiędzy rasą białą, a resztą ras na świecie."
   ]
  },
  {
   "cell_type": "code",
   "execution_count": 33,
   "metadata": {},
   "outputs": [],
   "source": [
    "# An attempt to answer the question - Does the marital status/relationship a person is in affect the amount of his or her salary above and below 50K?\n",
    "# Próba odpowiedzenia na pytanie - Czy stan małżeński/relacja w jakiej jest osoba wpływa na wysokość jej zarobków powyżej i poniżej 50K?\n"
   ]
  },
  {
   "cell_type": "code",
   "execution_count": 22,
   "metadata": {},
   "outputs": [
    {
     "data": {
      "text/plain": [
       "count       30162\n",
       "unique          6\n",
       "top       Husband\n",
       "freq        12463\n",
       "Name: relation, dtype: object"
      ]
     },
     "execution_count": 22,
     "metadata": {},
     "output_type": "execute_result"
    }
   ],
   "source": [
    "income[\"relation\"].describe()"
   ]
  },
  {
   "cell_type": "code",
   "execution_count": 23,
   "metadata": {},
   "outputs": [
    {
     "data": {
      "text/plain": [
       "relation\n",
       "Husband           12463\n",
       "Not-in-family      7726\n",
       "Own-child          4466\n",
       "Unmarried          3212\n",
       "Wife               1406\n",
       "Other-relative      889\n",
       "Name: count, dtype: int64"
      ]
     },
     "execution_count": 23,
     "metadata": {},
     "output_type": "execute_result"
    }
   ],
   "source": [
    "income[\"relation\"].value_counts()"
   ]
  },
  {
   "cell_type": "code",
   "execution_count": 24,
   "metadata": {},
   "outputs": [
    {
     "data": {
      "image/png": "[encoded data removed]",
      "text/plain": [
       "<Figure size 720x576 with 1 Axes>"
      ]
     },
     "metadata": {
      "needs_background": "light"
     },
     "output_type": "display_data"
    }
   ],
   "source": [
    "hist_relation= income.groupby([\"income\",\"relation\"]).sum()\n",
    "hist_relation =  hist_relation[\"data_weight\"]\n",
    "plt.figure(figsize=(10,8))\n",
    "labels = ['Husband','Not-in-family','Own-child','Unmarried','Wife','Other-relative']\n",
    "plt.bar( np.arange(1, hist_relation[\"<=50K\"].index.size+1, step=1)-0.2 , hist_relation.loc[(\"<=50K\")], width=0.4, color=\"blue\", label=\"<=50K\")\n",
    "plt.bar( np.arange(1, hist_relation[\">50K\"].index.size+1, step=1)+0.2 , hist_relation.loc[(\">50K\")], width=0.4, color=\"red\", label=\">50K\")\n",
    "plt.legend()\n",
    "plt.xticks(np.arange(1, hist_relation[\"<=50K\"].index.size+1, step=1),labels, rotation=90)\n",
    "plt.ylabel(\"Count of people(mln)\", fontsize=11)\n",
    "plt.xlabel(\"Relation\", fontsize=11)\n",
    "plt.show()"
   ]
  },
  {
   "cell_type": "code",
   "execution_count": null,
   "metadata": {},
   "outputs": [],
   "source": [
    "#Conclusion:\n",
    "# Married men were more likely to earn over 50K than married women. You can see the disproportion here, just like in the chart with gender and earnings.\n",
    "# Most people without families earned less than 50K.\n",
    "\n",
    "#Wnioski:\n",
    "# Mężczyźni będący w związkach małżenskich częściej zarabiały powyżej 50K niż kobiety będace w związkach małżeńskich. Widać tutaj tą dysproporcję tak jak na wykresie z płcią i zarobkami.\n",
    "# Większość osób nie posiadających rodziny zarabiało poniżej 50K."
   ]
  },
  {
   "cell_type": "code",
   "execution_count": 159,
   "metadata": {},
   "outputs": [],
   "source": [
    "# Analiza typu zatrudnienia, a zarobków powyżej i poniżej 50K. Jak rodzaj zatrudnienia wpływa na wysokość zarobków?\n",
    "# Analysis type of employment and salary. How type of employment influence on salary?"
   ]
  },
  {
   "cell_type": "code",
   "execution_count": 26,
   "metadata": {},
   "outputs": [
    {
     "data": {
      "text/plain": [
       "employment\n",
       "Private             22286\n",
       "Self-emp-not-inc     2499\n",
       "Local-gov            2067\n",
       "State-gov            1279\n",
       "Self-emp-inc         1074\n",
       "Federal-gov           943\n",
       "Without-pay            14\n",
       "Name: count, dtype: int64"
      ]
     },
     "execution_count": 26,
     "metadata": {},
     "output_type": "execute_result"
    }
   ],
   "source": [
    "income[\"employment\"].value_counts()"
   ]
  },
  {
   "cell_type": "code",
   "execution_count": 27,
   "metadata": {},
   "outputs": [
    {
     "data": {
      "text/plain": [
       "count       30162\n",
       "unique          7\n",
       "top       Private\n",
       "freq        22286\n",
       "Name: employment, dtype: object"
      ]
     },
     "execution_count": 27,
     "metadata": {},
     "output_type": "execute_result"
    }
   ],
   "source": [
    "income[\"employment\"].describe()"
   ]
  },
  {
   "cell_type": "code",
   "execution_count": 36,
   "metadata": {},
   "outputs": [
    {
     "data": {
      "image/png": "[encoded data removed]",
      "text/plain": [
       "<Figure size 720x576 with 1 Axes>"
      ]
     },
     "metadata": {
      "needs_background": "light"
     },
     "output_type": "display_data"
    }
   ],
   "source": [
    "hist_emp= income.groupby([\"income\",\"employment\"]).sum()\n",
    "hist_emp =  hist_emp[\"data_weight\"]\n",
    "plt.figure(figsize=(10,8))\n",
    "labels = ['Federal-gov','Local-gov','Private','Self-emp-inc','Self-emp-not-inc','State-gov','Without-pay']\n",
    "plt.bar( np.arange(1, hist_emp[\"<=50K\"].index.size+1, step=1)-0.2 , hist_emp.loc[(\"<=50K\")]/51000000, width=0.4, color=\"blue\", label=\"<=50K\")\n",
    "plt.bar( np.arange(1, hist_emp[\">50K\"].index.size+1, step=1)+0.2 , hist_emp.loc[(\">50K\")]/51000000, width=0.4, color=\"red\", label=\">50K\")\n",
    "plt.legend()\n",
    "plt.xticks(np.arange(1, hist_emp[\"<=50K\"].index.size+1, step=1),labels, rotation=90)\n",
    "plt.ylabel(\"Count of people(mln)\", fontsize=11)\n",
    "plt.xlabel(\"Education\", fontsize=11)\n",
    "plt.show()"
   ]
  },
  {
   "cell_type": "code",
   "execution_count": 35,
   "metadata": {},
   "outputs": [],
   "source": [
    "#Conclusion:\n",
    "# Self-employed people earning over 50k outperformed self-employed people earning less than 50k.\n",
    "# A large part of people employed in the private sector could count on earnings above PLN 50,000.\n",
    "# In government positions, most people could count on earnings below 50k.\n",
    "# This variable is related to and affects the amount of earnings.\n",
    "\n",
    "#Wnioski:\n",
    "# Osoby samozatrudnione zarabiajace powyzej 50k przewyższyły osoby samozatrudnione zarabiające poniżej 50k.\n",
    "# Duża część osób zatrudnionych w prywatnym sektorze mogła liczyć na zarobki powyżej 50k.\n",
    "# Na stanowiskach państwowych większość osób mogła liczyć na zarobki poniżej 50k.\n",
    "# Zmienna ta jest powiązana i oddziałowywuje na wysokość zarobków. "
   ]
  }
 ],
 "metadata": {
  "kernelspec": {
   "display_name": "base",
   "language": "python",
   "name": "python3"
  },
  "language_info": {
   "codemirror_mode": {
    "name": "ipython",
    "version": 3
   },
   "file_extension": ".py",
   "mimetype": "text/x-python",
   "name": "python",
   "nbconvert_exporter": "python",
   "pygments_lexer": "ipython3",
   "version": "3.8.5"
  }
 },
 "nbformat": 4,
 "nbformat_minor": 2
}
